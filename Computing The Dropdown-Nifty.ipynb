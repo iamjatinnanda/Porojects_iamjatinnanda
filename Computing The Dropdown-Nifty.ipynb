{
 "cells": [
  {
   "cell_type": "code",
   "execution_count": 13,
   "metadata": {},
   "outputs": [],
   "source": [
    "import yfinance as yf\n",
    "import pandas as pd\n",
    "import numpy as np\n",
    "from datetime import datetime"
   ]
  },
  {
   "cell_type": "code",
   "execution_count": 123,
   "metadata": {},
   "outputs": [
    {
     "data": {
      "text/html": [
       "<div>\n",
       "<style scoped>\n",
       "    .dataframe tbody tr th:only-of-type {\n",
       "        vertical-align: middle;\n",
       "    }\n",
       "\n",
       "    .dataframe tbody tr th {\n",
       "        vertical-align: top;\n",
       "    }\n",
       "\n",
       "    .dataframe thead th {\n",
       "        text-align: right;\n",
       "    }\n",
       "</style>\n",
       "<table border=\"1\" class=\"dataframe\">\n",
       "  <thead>\n",
       "    <tr style=\"text-align: right;\">\n",
       "      <th></th>\n",
       "      <th>Close</th>\n",
       "      <th>Date.1</th>\n",
       "      <th>Close.1</th>\n",
       "    </tr>\n",
       "    <tr>\n",
       "      <th>Date</th>\n",
       "      <th></th>\n",
       "      <th></th>\n",
       "      <th></th>\n",
       "    </tr>\n",
       "  </thead>\n",
       "  <tbody>\n",
       "    <tr>\n",
       "      <th>2019-11-11 15:30:00</th>\n",
       "      <td>11913.45</td>\n",
       "      <td>11/11/2019 15:30:00</td>\n",
       "      <td>2778.65</td>\n",
       "    </tr>\n",
       "    <tr>\n",
       "      <th>2019-11-13 15:30:00</th>\n",
       "      <td>11840.45</td>\n",
       "      <td>11/13/2019 15:30:00</td>\n",
       "      <td>2736.15</td>\n",
       "    </tr>\n",
       "    <tr>\n",
       "      <th>2019-11-14 15:30:00</th>\n",
       "      <td>11872.10</td>\n",
       "      <td>11/14/2019 15:30:00</td>\n",
       "      <td>2728.85</td>\n",
       "    </tr>\n",
       "    <tr>\n",
       "      <th>2019-11-15 15:30:00</th>\n",
       "      <td>11895.45</td>\n",
       "      <td>11/15/2019 15:30:00</td>\n",
       "      <td>2715.25</td>\n",
       "    </tr>\n",
       "    <tr>\n",
       "      <th>2019-11-18 15:30:00</th>\n",
       "      <td>11884.50</td>\n",
       "      <td>11/18/2019 15:30:00</td>\n",
       "      <td>2720.20</td>\n",
       "    </tr>\n",
       "  </tbody>\n",
       "</table>\n",
       "</div>"
      ],
      "text/plain": [
       "                        Close               Date.1  Close.1\n",
       "Date                                                       \n",
       "2019-11-11 15:30:00  11913.45  11/11/2019 15:30:00  2778.65\n",
       "2019-11-13 15:30:00  11840.45  11/13/2019 15:30:00  2736.15\n",
       "2019-11-14 15:30:00  11872.10  11/14/2019 15:30:00  2728.85\n",
       "2019-11-15 15:30:00  11895.45  11/15/2019 15:30:00  2715.25\n",
       "2019-11-18 15:30:00  11884.50  11/18/2019 15:30:00  2720.20"
      ]
     },
     "execution_count": 123,
     "metadata": {},
     "output_type": "execute_result"
    }
   ],
   "source": [
    "data = pd.read_csv('/home/jatinn/Downloads/Nifty50.csv',header=0, index_col=0, parse_dates=True, na_values=-99.99)\n",
    "data.head()"
   ]
  },
  {
   "cell_type": "code",
   "execution_count": 124,
   "metadata": {},
   "outputs": [
    {
     "data": {
      "text/html": [
       "<div>\n",
       "<style scoped>\n",
       "    .dataframe tbody tr th:only-of-type {\n",
       "        vertical-align: middle;\n",
       "    }\n",
       "\n",
       "    .dataframe tbody tr th {\n",
       "        vertical-align: top;\n",
       "    }\n",
       "\n",
       "    .dataframe thead th {\n",
       "        text-align: right;\n",
       "    }\n",
       "</style>\n",
       "<table border=\"1\" class=\"dataframe\">\n",
       "  <thead>\n",
       "    <tr style=\"text-align: right;\">\n",
       "      <th></th>\n",
       "      <th>Close</th>\n",
       "      <th>Close.1</th>\n",
       "    </tr>\n",
       "    <tr>\n",
       "      <th>Date</th>\n",
       "      <th></th>\n",
       "      <th></th>\n",
       "    </tr>\n",
       "  </thead>\n",
       "  <tbody>\n",
       "    <tr>\n",
       "      <th>2019-11-11 15:30:00</th>\n",
       "      <td>11913.45</td>\n",
       "      <td>2778.65</td>\n",
       "    </tr>\n",
       "    <tr>\n",
       "      <th>2019-11-13 15:30:00</th>\n",
       "      <td>11840.45</td>\n",
       "      <td>2736.15</td>\n",
       "    </tr>\n",
       "    <tr>\n",
       "      <th>2019-11-14 15:30:00</th>\n",
       "      <td>11872.10</td>\n",
       "      <td>2728.85</td>\n",
       "    </tr>\n",
       "    <tr>\n",
       "      <th>2019-11-15 15:30:00</th>\n",
       "      <td>11895.45</td>\n",
       "      <td>2715.25</td>\n",
       "    </tr>\n",
       "    <tr>\n",
       "      <th>2019-11-18 15:30:00</th>\n",
       "      <td>11884.50</td>\n",
       "      <td>2720.20</td>\n",
       "    </tr>\n",
       "  </tbody>\n",
       "</table>\n",
       "</div>"
      ],
      "text/plain": [
       "                        Close  Close.1\n",
       "Date                                  \n",
       "2019-11-11 15:30:00  11913.45  2778.65\n",
       "2019-11-13 15:30:00  11840.45  2736.15\n",
       "2019-11-14 15:30:00  11872.10  2728.85\n",
       "2019-11-15 15:30:00  11895.45  2715.25\n",
       "2019-11-18 15:30:00  11884.50  2720.20"
      ]
     },
     "execution_count": 124,
     "metadata": {},
     "output_type": "execute_result"
    }
   ],
   "source": [
    "columns=['Close', 'Close.1']\n",
    "data = data[columns]\n",
    "data.head()"
   ]
  },
  {
   "cell_type": "code",
   "execution_count": 125,
   "metadata": {},
   "outputs": [
    {
     "data": {
      "text/html": [
       "<div>\n",
       "<style scoped>\n",
       "    .dataframe tbody tr th:only-of-type {\n",
       "        vertical-align: middle;\n",
       "    }\n",
       "\n",
       "    .dataframe tbody tr th {\n",
       "        vertical-align: top;\n",
       "    }\n",
       "\n",
       "    .dataframe thead th {\n",
       "        text-align: right;\n",
       "    }\n",
       "</style>\n",
       "<table border=\"1\" class=\"dataframe\">\n",
       "  <thead>\n",
       "    <tr style=\"text-align: right;\">\n",
       "      <th></th>\n",
       "      <th>Largecaps</th>\n",
       "      <th>Smallcaps</th>\n",
       "    </tr>\n",
       "    <tr>\n",
       "      <th>Date</th>\n",
       "      <th></th>\n",
       "      <th></th>\n",
       "    </tr>\n",
       "  </thead>\n",
       "  <tbody>\n",
       "    <tr>\n",
       "      <th>2019-11-11 15:30:00</th>\n",
       "      <td>11913.45</td>\n",
       "      <td>2778.65</td>\n",
       "    </tr>\n",
       "    <tr>\n",
       "      <th>2019-11-13 15:30:00</th>\n",
       "      <td>11840.45</td>\n",
       "      <td>2736.15</td>\n",
       "    </tr>\n",
       "    <tr>\n",
       "      <th>2019-11-14 15:30:00</th>\n",
       "      <td>11872.10</td>\n",
       "      <td>2728.85</td>\n",
       "    </tr>\n",
       "    <tr>\n",
       "      <th>2019-11-15 15:30:00</th>\n",
       "      <td>11895.45</td>\n",
       "      <td>2715.25</td>\n",
       "    </tr>\n",
       "    <tr>\n",
       "      <th>2019-11-18 15:30:00</th>\n",
       "      <td>11884.50</td>\n",
       "      <td>2720.20</td>\n",
       "    </tr>\n",
       "  </tbody>\n",
       "</table>\n",
       "</div>"
      ],
      "text/plain": [
       "                     Largecaps  Smallcaps\n",
       "Date                                     \n",
       "2019-11-11 15:30:00   11913.45    2778.65\n",
       "2019-11-13 15:30:00   11840.45    2736.15\n",
       "2019-11-14 15:30:00   11872.10    2728.85\n",
       "2019-11-15 15:30:00   11895.45    2715.25\n",
       "2019-11-18 15:30:00   11884.50    2720.20"
      ]
     },
     "execution_count": 125,
     "metadata": {},
     "output_type": "execute_result"
    }
   ],
   "source": [
    "data.columns =['Largecaps', 'Smallcaps']\n",
    "data.head()"
   ]
  },
  {
   "cell_type": "code",
   "execution_count": 146,
   "metadata": {},
   "outputs": [
    {
     "data": {
      "text/plain": [
       "<AxesSubplot:xlabel='Date'>"
      ]
     },
     "execution_count": 146,
     "metadata": {},
     "output_type": "execute_result"
    },
    {
     "data": {
      "image/png": "[encoded data removed]",
      "text/plain": [
       "<Figure size 432x288 with 1 Axes>"
      ]
     },
     "metadata": {
      "needs_background": "light"
     },
     "output_type": "display_data"
    }
   ],
   "source": [
    "data[\"2020-02\":\"2020-06\"].plot.line()"
   ]
  },
  {
   "cell_type": "markdown",
   "metadata": {},
   "source": [
    "##Computing dropdown\n",
    "\n",
    "\"\"\"\n",
    "1. Compute the Wealth Index\n",
    "2. Compute the Previous Peaks \n",
    "3. Compute the Drawdown\n",
    "\n",
    "\"\"\""
   ]
  },
  {
   "cell_type": "code",
   "execution_count": 128,
   "metadata": {},
   "outputs": [
    {
     "data": {
      "text/html": [
       "<div>\n",
       "<style scoped>\n",
       "    .dataframe tbody tr th:only-of-type {\n",
       "        vertical-align: middle;\n",
       "    }\n",
       "\n",
       "    .dataframe tbody tr th {\n",
       "        vertical-align: top;\n",
       "    }\n",
       "\n",
       "    .dataframe thead th {\n",
       "        text-align: right;\n",
       "    }\n",
       "</style>\n",
       "<table border=\"1\" class=\"dataframe\">\n",
       "  <thead>\n",
       "    <tr style=\"text-align: right;\">\n",
       "      <th></th>\n",
       "      <th>Largecaps</th>\n",
       "      <th>Smallcaps</th>\n",
       "    </tr>\n",
       "    <tr>\n",
       "      <th>Date</th>\n",
       "      <th></th>\n",
       "      <th></th>\n",
       "    </tr>\n",
       "  </thead>\n",
       "  <tbody>\n",
       "    <tr>\n",
       "      <th>2019-11-11 15:30:00</th>\n",
       "      <td>11913.45</td>\n",
       "      <td>2778.65</td>\n",
       "    </tr>\n",
       "    <tr>\n",
       "      <th>2019-11-13 15:30:00</th>\n",
       "      <td>11840.45</td>\n",
       "      <td>2736.15</td>\n",
       "    </tr>\n",
       "    <tr>\n",
       "      <th>2019-11-14 15:30:00</th>\n",
       "      <td>11872.10</td>\n",
       "      <td>2728.85</td>\n",
       "    </tr>\n",
       "    <tr>\n",
       "      <th>2019-11-15 15:30:00</th>\n",
       "      <td>11895.45</td>\n",
       "      <td>2715.25</td>\n",
       "    </tr>\n",
       "    <tr>\n",
       "      <th>2019-11-18 15:30:00</th>\n",
       "      <td>11884.50</td>\n",
       "      <td>2720.20</td>\n",
       "    </tr>\n",
       "  </tbody>\n",
       "</table>\n",
       "</div>"
      ],
      "text/plain": [
       "                     Largecaps  Smallcaps\n",
       "Date                                     \n",
       "2019-11-11 15:30:00   11913.45    2778.65\n",
       "2019-11-13 15:30:00   11840.45    2736.15\n",
       "2019-11-14 15:30:00   11872.10    2728.85\n",
       "2019-11-15 15:30:00   11895.45    2715.25\n",
       "2019-11-18 15:30:00   11884.50    2720.20"
      ]
     },
     "execution_count": 128,
     "metadata": {},
     "output_type": "execute_result"
    }
   ],
   "source": [
    "data.index = pd.to_datetime(data.index,format = \"%Y%m\")\n",
    "data.head()"
   ]
  },
  {
   "cell_type": "code",
   "execution_count": 171,
   "metadata": {},
   "outputs": [],
   "source": [
    "def drawdown (data: pd.Series):\n",
    "    wealth_index = 1000*(1+data)\n",
    "    previous_peaks = wealth_index.cummax()\n",
    "    drawdown = (wealth_index-previous_peaks)/previous_peaks\n",
    "    return pd.DataFrame({\n",
    "      \"Wealth\":wealth_index,\n",
    "      \"Peaks\":previous_peaks,\n",
    "      \"Drowdown\":drawdown\n",
    "    })"
   ]
  },
  {
   "cell_type": "markdown",
   "metadata": {},
   "source": [
    "### Largecaps"
   ]
  },
  {
   "cell_type": "code",
   "execution_count": 179,
   "metadata": {},
   "outputs": [
    {
     "data": {
      "text/plain": [
       "<AxesSubplot:xlabel='Date'>"
      ]
     },
     "execution_count": 179,
     "metadata": {},
     "output_type": "execute_result"
    },
    {
     "data": {
      "image/png": "[encoded data removed]",
      "text/plain": [
       "<Figure size 432x288 with 1 Axes>"
      ]
     },
     "metadata": {
      "needs_background": "light"
     },
     "output_type": "display_data"
    }
   ],
   "source": [
    "drawdown(data[\"2020-03\":\"2020-11\"][\"Largecaps\"])[[\"Wealth\",\"Peaks\"]].plot()"
   ]
  },
  {
   "cell_type": "markdown",
   "metadata": {},
   "source": [
    "### SmallCaps"
   ]
  },
  {
   "cell_type": "code",
   "execution_count": 178,
   "metadata": {},
   "outputs": [
    {
     "data": {
      "text/plain": [
       "<AxesSubplot:xlabel='Date'>"
      ]
     },
     "execution_count": 178,
     "metadata": {},
     "output_type": "execute_result"
    },
    {
     "data": {
      "image/png": "[encoded data removed]",
      "text/plain": [
       "<Figure size 432x288 with 1 Axes>"
      ]
     },
     "metadata": {
      "needs_background": "light"
     },
     "output_type": "display_data"
    }
   ],
   "source": [
    "drawdown(data[\"2020-03\":\"2020-11\"][\"Smallcaps\"])[[\"Wealth\",\"Peaks\"]].plot()"
   ]
  },
  {
   "cell_type": "code",
   "execution_count": null,
   "metadata": {},
   "outputs": [],
   "source": []
  }
 ],
 "metadata": {
  "kernelspec": {
   "display_name": "Python 3",
   "language": "python",
   "name": "python3"
  },
  "language_info": {
   "codemirror_mode": {
    "name": "ipython",
    "version": 3
   },
   "file_extension": ".py",
   "mimetype": "text/x-python",
   "name": "python",
   "nbconvert_exporter": "python",
   "pygments_lexer": "ipython3",
   "version": "3.8.6"
  }
 },
 "nbformat": 4,
 "nbformat_minor": 4
}
